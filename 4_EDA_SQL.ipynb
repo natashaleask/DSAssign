{
  "cells": [
    {
      "cell_type": "markdown",
      "metadata": {
        "id": "c6dfa2b6-e9c5-49eb-8d07-65339417ed36"
      },
      "source": [
        "<p style=\"text-align:center\">\n",
        "    <a href=\"https://skills.network\" target=\"_blank\">\n",
        "    <img src=\"https://cf-courses-data.s3.us.cloud-object-storage.appdomain.cloud/assets/logos/SN_web_lightmode.png\" width=\"200\" alt=\"Skills Network Logo\">\n",
        "    </a>\n",
        "</p>\n",
        "\n",
        "<h1 align=center><font size = 5>Assignment: SQL Notebook for Peer Assignment</font></h1>\n",
        "\n",
        "Date completed: 5 October 2024\n",
        "\n",
        "## Objectives\n",
        "1.  Understand the Spacex DataSet\n",
        "2.  Load the dataset  into the corresponding table in a Db2 database\n",
        "3.  Execute SQL queries to answer assignment questions\n"
      ]
    },
    {
      "cell_type": "markdown",
      "metadata": {
        "id": "b34a452f-a2d6-45cd-9bac-2993d6bb9e6b"
      },
      "source": [
        "## Overview of the DataSet\n",
        "\n",
        "SpaceX has gained worldwide attention for a series of historic milestones.\n",
        "\n",
        "It is the only private company ever to return a spacecraft from low-earth orbit, which it first accomplished in December 2010.\n",
        "SpaceX advertises Falcon 9 rocket launches on its website with a cost of 62 million dollars wheras other providers cost upward of 165 million dollars each, much of the savings is because Space X can reuse the first stage.\n",
        "\n",
        "\n",
        "Therefore if we can determine if the first stage will land, we can determine the cost of a launch.\n",
        "\n",
        "This information can be used if an alternate company wants to bid against SpaceX for a rocket launch.\n",
        "\n",
        "This dataset includes a record for each payload carried during a SpaceX mission into outer space.\n"
      ]
    },
    {
      "cell_type": "markdown",
      "source": [
        "## Import Libraries"
      ],
      "metadata": {
        "id": "6F3VWQRLaEb8"
      }
    },
    {
      "cell_type": "code",
      "source": [
        "# Install required libraries\n",
        "!pip install ipython-sql\n",
        "import pandas as pd\n",
        "import sqlite3\n",
        "from sqlite3 import Error"
      ],
      "metadata": {
        "colab": {
          "base_uri": "https://localhost:8080/"
        },
        "id": "2keuFYcAaFfS",
        "outputId": "679b7629-ed15-47ce-ea82-79995f761d87"
      },
      "execution_count": 54,
      "outputs": [
        {
          "output_type": "stream",
          "name": "stdout",
          "text": [
            "Requirement already satisfied: ipython-sql in /usr/local/lib/python3.11/dist-packages (0.5.0)\n",
            "Requirement already satisfied: prettytable in /usr/local/lib/python3.11/dist-packages (from ipython-sql) (3.16.0)\n",
            "Requirement already satisfied: ipython in /usr/local/lib/python3.11/dist-packages (from ipython-sql) (7.34.0)\n",
            "Requirement already satisfied: sqlalchemy>=2.0 in /usr/local/lib/python3.11/dist-packages (from ipython-sql) (2.0.40)\n",
            "Requirement already satisfied: sqlparse in /usr/local/lib/python3.11/dist-packages (from ipython-sql) (0.5.3)\n",
            "Requirement already satisfied: six in /usr/local/lib/python3.11/dist-packages (from ipython-sql) (1.17.0)\n",
            "Requirement already satisfied: ipython-genutils in /usr/local/lib/python3.11/dist-packages (from ipython-sql) (0.2.0)\n",
            "Requirement already satisfied: greenlet>=1 in /usr/local/lib/python3.11/dist-packages (from sqlalchemy>=2.0->ipython-sql) (3.1.1)\n",
            "Requirement already satisfied: typing-extensions>=4.6.0 in /usr/local/lib/python3.11/dist-packages (from sqlalchemy>=2.0->ipython-sql) (4.13.0)\n",
            "Requirement already satisfied: setuptools>=18.5 in /usr/local/lib/python3.11/dist-packages (from ipython->ipython-sql) (75.2.0)\n",
            "Requirement already satisfied: jedi>=0.16 in /usr/local/lib/python3.11/dist-packages (from ipython->ipython-sql) (0.19.2)\n",
            "Requirement already satisfied: decorator in /usr/local/lib/python3.11/dist-packages (from ipython->ipython-sql) (4.4.2)\n",
            "Requirement already satisfied: pickleshare in /usr/local/lib/python3.11/dist-packages (from ipython->ipython-sql) (0.7.5)\n",
            "Requirement already satisfied: traitlets>=4.2 in /usr/local/lib/python3.11/dist-packages (from ipython->ipython-sql) (5.7.1)\n",
            "Requirement already satisfied: prompt-toolkit!=3.0.0,!=3.0.1,<3.1.0,>=2.0.0 in /usr/local/lib/python3.11/dist-packages (from ipython->ipython-sql) (3.0.50)\n",
            "Requirement already satisfied: pygments in /usr/local/lib/python3.11/dist-packages (from ipython->ipython-sql) (2.18.0)\n",
            "Requirement already satisfied: backcall in /usr/local/lib/python3.11/dist-packages (from ipython->ipython-sql) (0.2.0)\n",
            "Requirement already satisfied: matplotlib-inline in /usr/local/lib/python3.11/dist-packages (from ipython->ipython-sql) (0.1.7)\n",
            "Requirement already satisfied: pexpect>4.3 in /usr/local/lib/python3.11/dist-packages (from ipython->ipython-sql) (4.9.0)\n",
            "Requirement already satisfied: wcwidth in /usr/local/lib/python3.11/dist-packages (from prettytable->ipython-sql) (0.2.13)\n",
            "Requirement already satisfied: parso<0.9.0,>=0.8.4 in /usr/local/lib/python3.11/dist-packages (from jedi>=0.16->ipython->ipython-sql) (0.8.4)\n",
            "Requirement already satisfied: ptyprocess>=0.5 in /usr/local/lib/python3.11/dist-packages (from pexpect>4.3->ipython->ipython-sql) (0.7.0)\n"
          ]
        }
      ]
    },
    {
      "cell_type": "code",
      "source": [
        "# Load the SQL extension\n",
        "%load_ext sql"
      ],
      "metadata": {
        "colab": {
          "base_uri": "https://localhost:8080/"
        },
        "id": "4OKbEQ5U7K0X",
        "outputId": "aac6a15d-b1b1-493e-9d7a-857de99fe4f0"
      },
      "execution_count": 55,
      "outputs": [
        {
          "output_type": "stream",
          "name": "stdout",
          "text": [
            "The sql extension is already loaded. To reload it, use:\n",
            "  %reload_ext sql\n"
          ]
        }
      ]
    },
    {
      "cell_type": "markdown",
      "source": [
        "## Read in CSV file\n"
      ],
      "metadata": {
        "id": "2bjNrZRWl4PM"
      }
    },
    {
      "cell_type": "code",
      "source": [
        "df = pd.read_csv('/content/Spacex.csv')\n",
        "\n",
        "# Optional: Display the first few rows to verify\n",
        "print(df.head())"
      ],
      "metadata": {
        "id": "r_AvvyVml-Fy",
        "colab": {
          "base_uri": "https://localhost:8080/"
        },
        "outputId": "37297463-13bf-4c22-d207-9667bd5f2dfb"
      },
      "execution_count": 56,
      "outputs": [
        {
          "output_type": "stream",
          "name": "stdout",
          "text": [
            "         Date Time (UTC) Booster_Version  Launch_Site  \\\n",
            "0  2010-06-04   18:45:00  F9 v1.0  B0003  CCAFS LC-40   \n",
            "1  2010-12-08   15:43:00  F9 v1.0  B0004  CCAFS LC-40   \n",
            "2  2012-05-22    7:44:00  F9 v1.0  B0005  CCAFS LC-40   \n",
            "3  2012-10-08    0:35:00  F9 v1.0  B0006  CCAFS LC-40   \n",
            "4  2013-03-01   15:10:00  F9 v1.0  B0007  CCAFS LC-40   \n",
            "\n",
            "                                             Payload  PAYLOAD_MASS__KG_  \\\n",
            "0               Dragon Spacecraft Qualification Unit                  0   \n",
            "1  Dragon demo flight C1, two CubeSats, barrel of...                  0   \n",
            "2                              Dragon demo flight C2                525   \n",
            "3                                       SpaceX CRS-1                500   \n",
            "4                                       SpaceX CRS-2                677   \n",
            "\n",
            "       Orbit         Customer Mission_Outcome      Landing_Outcome  \n",
            "0        LEO           SpaceX         Success  Failure (parachute)  \n",
            "1  LEO (ISS)  NASA (COTS) NRO         Success  Failure (parachute)  \n",
            "2  LEO (ISS)      NASA (COTS)         Success           No attempt  \n",
            "3  LEO (ISS)       NASA (CRS)         Success           No attempt  \n",
            "4  LEO (ISS)       NASA (CRS)         Success           No attempt  \n"
          ]
        }
      ]
    },
    {
      "cell_type": "code",
      "source": [
        "# Clean column names (remove spaces, special characters)\n",
        "df.columns = [col.replace(' ', '_').replace('(', '').replace(')', '').replace('%', 'pct') for col in df.columns]"
      ],
      "metadata": {
        "id": "OZRwFXY26WN6"
      },
      "execution_count": 57,
      "outputs": []
    },
    {
      "cell_type": "markdown",
      "metadata": {
        "id": "c9da785d-df95-4616-8707-cc1b11b29a92"
      },
      "source": [
        "### Create a SQLite Database Connection\n",
        "\n",
        "\n"
      ]
    },
    {
      "cell_type": "code",
      "source": [
        "def create_connection(db_file):\n",
        "    conn = None\n",
        "    try:\n",
        "        conn = sqlite3.connect(db_file)\n",
        "        print(f\"Connected to SQLite version: {sqlite3.version}\")\n",
        "        return conn\n",
        "    except Error as e:\n",
        "        print(e)\n",
        "\n",
        "    return conn\n",
        "\n",
        "# Create a database file (will be created if it doesn't exist)\n",
        "conn = sqlite3.connect('spacex_data.db')\n",
        "print(\"Database connection created successfully\")"
      ],
      "metadata": {
        "id": "P5l1N59dnMi5",
        "colab": {
          "base_uri": "https://localhost:8080/"
        },
        "outputId": "60507e0b-75bc-4836-8602-a8b82868a04c"
      },
      "execution_count": 58,
      "outputs": [
        {
          "output_type": "stream",
          "name": "stdout",
          "text": [
            "Database connection created successfully\n"
          ]
        }
      ]
    },
    {
      "cell_type": "markdown",
      "source": [
        "### Create a Table and Insert Data"
      ],
      "metadata": {
        "id": "adXafWAX5x4_"
      }
    },
    {
      "cell_type": "code",
      "source": [
        "# Use pandas to directly write the dataframe to SQLite\n",
        "if conn is not None:\n",
        "    # The to_sql function creates a table and populates it\n",
        "    df.to_sql('SPACEXTABLE', conn, if_exists='replace', index=False)\n",
        "    print(\"Data successfully loaded to SQLite database\")\n",
        "else:\n",
        "    print(\"Error! Cannot create the database connection.\")"
      ],
      "metadata": {
        "colab": {
          "base_uri": "https://localhost:8080/"
        },
        "id": "Bl0XmXJb5z4e",
        "outputId": "0c97ff15-1bab-4e7c-cf34-8e4827b6e486"
      },
      "execution_count": 59,
      "outputs": [
        {
          "output_type": "stream",
          "name": "stdout",
          "text": [
            "Data successfully loaded to SQLite database\n"
          ]
        }
      ]
    },
    {
      "cell_type": "code",
      "source": [
        "# Test query\n",
        "# Load the ipython-sql extension to enable SQL magic commands\n",
        "%load_ext sql\n",
        "\n",
        "# Connect to the database\n",
        "%sql sqlite:///spacex_data.db\n",
        "\n",
        "%config SqlMagic.style = 'DEFAULT'"
      ],
      "metadata": {
        "colab": {
          "base_uri": "https://localhost:8080/"
        },
        "id": "rtqHcKxX3cnO",
        "outputId": "2478c8ed-9851-486c-b416-610bda283791"
      },
      "execution_count": 72,
      "outputs": [
        {
          "output_type": "stream",
          "name": "stdout",
          "text": [
            "The sql extension is already loaded. To reload it, use:\n",
            "  %reload_ext sql\n"
          ]
        }
      ]
    },
    {
      "cell_type": "code",
      "source": [
        "conn = sqlite3.connect('spacex_data.db')\n",
        "cursor = conn.cursor()\n",
        "cursor.execute(\"SELECT name FROM sqlite_master WHERE type='table';\")\n",
        "print(cursor.fetchall())"
      ],
      "metadata": {
        "colab": {
          "base_uri": "https://localhost:8080/"
        },
        "id": "rDAR-2Js8gPU",
        "outputId": "674db2ca-0e95-49cb-bfda-6180aed73a74"
      },
      "execution_count": 76,
      "outputs": [
        {
          "output_type": "stream",
          "name": "stdout",
          "text": [
            "[('SPACEXTBL',), ('SPACEXTABLE',)]\n"
          ]
        }
      ]
    },
    {
      "cell_type": "markdown",
      "metadata": {
        "id": "d7430563-360f-48b7-8606-8dab70eecc4e"
      },
      "source": [
        "## Tasks\n",
        "\n",
        "Now write and execute SQL queries to solve the assignment tasks.\n",
        "\n",
        "**Note: If the column names are in mixed case enclose it in double quotes\n",
        "   For Example \"Landing_Outcome\"**\n",
        "\n",
        "### Task 1\n",
        "\n",
        "\n",
        "\n",
        "\n",
        "##### Display the names of the unique launch sites  in the space mission\n"
      ]
    },
    {
      "cell_type": "code",
      "metadata": {
        "colab": {
          "base_uri": "https://localhost:8080/"
        },
        "id": "3ed5b96b-08c7-4716-8079-a2673cf291e6",
        "outputId": "c81b9885-e27e-4bde-8d28-1bdb32f3f11a"
      },
      "outputs": [
        {
          "output_type": "stream",
          "name": "stdout",
          "text": [
            "    Launch_Site\n",
            "0   CCAFS LC-40\n",
            "1   VAFB SLC-4E\n",
            "2    KSC LC-39A\n",
            "3  CCAFS SLC-40\n"
          ]
        }
      ],
      "source": [
        "# Task 1: Display the names of the unique launch sites in the space mission\n",
        "query = 'SELECT DISTINCT \"LAUNCH_SITE\" FROM SPACEXTABLE;'\n",
        "launch = pd.read_sql_query(query, conn)\n",
        "print(launch)"
      ],
      "execution_count": 84
    },
    {
      "cell_type": "markdown",
      "metadata": {
        "id": "8ec11181-8d60-4e96-a894-c43991d3d3de"
      },
      "source": [
        "\n",
        "### Task 2\n",
        "\n",
        "\n",
        "#####  Display 5 records where launch sites begin with the string 'CCA'\n"
      ]
    },
    {
      "cell_type": "code",
      "metadata": {
        "id": "9ed02f84-94a9-4473-88e0-d22cf562b5a7",
        "colab": {
          "base_uri": "https://localhost:8080/"
        },
        "outputId": "0d301390-9c79-4d55-8b3e-bac30550ee75"
      },
      "outputs": [
        {
          "output_type": "stream",
          "name": "stdout",
          "text": [
            "         Date  Time_UTC Booster_Version  Launch_Site  \\\n",
            "0  2010-06-04  18:45:00  F9 v1.0  B0003  CCAFS LC-40   \n",
            "1  2010-12-08  15:43:00  F9 v1.0  B0004  CCAFS LC-40   \n",
            "2  2012-05-22   7:44:00  F9 v1.0  B0005  CCAFS LC-40   \n",
            "3  2012-10-08   0:35:00  F9 v1.0  B0006  CCAFS LC-40   \n",
            "4  2013-03-01  15:10:00  F9 v1.0  B0007  CCAFS LC-40   \n",
            "\n",
            "                                             Payload  PAYLOAD_MASS__KG_  \\\n",
            "0               Dragon Spacecraft Qualification Unit                  0   \n",
            "1  Dragon demo flight C1, two CubeSats, barrel of...                  0   \n",
            "2                              Dragon demo flight C2                525   \n",
            "3                                       SpaceX CRS-1                500   \n",
            "4                                       SpaceX CRS-2                677   \n",
            "\n",
            "       Orbit         Customer Mission_Outcome      Landing_Outcome  \n",
            "0        LEO           SpaceX         Success  Failure (parachute)  \n",
            "1  LEO (ISS)  NASA (COTS) NRO         Success  Failure (parachute)  \n",
            "2  LEO (ISS)      NASA (COTS)         Success           No attempt  \n",
            "3  LEO (ISS)       NASA (CRS)         Success           No attempt  \n",
            "4  LEO (ISS)       NASA (CRS)         Success           No attempt  \n"
          ]
        }
      ],
      "source": [
        "# Display 5 records where launch sites begin with the string 'CCA'\n",
        "\n",
        "query = 'SELECT * FROM SPACEXTABLE WHERE Launch_Site LIKE \"CCA%\" LIMIT 5;'\n",
        "cca = pd.read_sql_query(query, conn)\n",
        "print(cca)"
      ],
      "execution_count": 85
    },
    {
      "cell_type": "markdown",
      "metadata": {
        "id": "ec088752-758d-4f13-a2c3-578dfdb6dc2a"
      },
      "source": [
        "### Task 3\n",
        "\n",
        "\n",
        "\n",
        "\n",
        "##### Display the total payload mass carried by boosters launched by NASA (CRS)\n"
      ]
    },
    {
      "cell_type": "code",
      "metadata": {
        "id": "b8958ac2-26f8-4825-a35a-984dcd73fd7b",
        "colab": {
          "base_uri": "https://localhost:8080/"
        },
        "outputId": "b235622b-7e30-4f98-a478-008a69c83772"
      },
      "outputs": [
        {
          "output_type": "stream",
          "name": "stdout",
          "text": [
            "   Total Payload Mass (kg)\n",
            "0                    45596\n"
          ]
        }
      ],
      "source": [
        "# Display the total payload mass carried by boosters launched by NASA (CRS)\n",
        "\n",
        "query = 'SELECT SUM(PAYLOAD_MASS__KG_) AS \"Total Payload Mass (kg)\" FROM SPACEXTABLE WHERE Customer LIKE \"NASA (CRS)\";'\n",
        "totalmass = pd.read_sql_query(query, conn)\n",
        "print(totalmass)"
      ],
      "execution_count": 87
    },
    {
      "cell_type": "markdown",
      "metadata": {
        "id": "3239d9db-a8aa-4219-9039-a3bb8ca86994"
      },
      "source": [
        "### Task 4\n",
        "\n",
        "\n",
        "\n",
        "\n",
        "##### Display average payload mass carried by booster version F9 v1.1\n"
      ]
    },
    {
      "cell_type": "code",
      "metadata": {
        "id": "12542d86-6940-4ddf-a952-937a6ad11026",
        "colab": {
          "base_uri": "https://localhost:8080/"
        },
        "outputId": "9b3e90dc-61f4-42fd-9f03-2f258e4f56d2"
      },
      "outputs": [
        {
          "output_type": "stream",
          "name": "stdout",
          "text": [
            "   Average Payload Mass (kg)\n",
            "0                     2928.4\n"
          ]
        }
      ],
      "source": [
        "# Display average payload mass carried by booster version F9 v1.1\n",
        "\n",
        "query = 'SELECT AVG(PAYLOAD_MASS__KG_) AS \"Average Payload Mass (kg)\" FROM SPACEXTABLE WHERE Booster_Version LIKE \"F9 v1.1\";'\n",
        "avgmass = pd.read_sql_query(query, conn)\n",
        "print(avgmass)"
      ],
      "execution_count": 89
    },
    {
      "cell_type": "markdown",
      "metadata": {
        "id": "5dba8f8d-5836-47ae-b5af-08d9a1b16474"
      },
      "source": [
        "### Task 5\n",
        "\n",
        "##### List the date when the first succesful landing outcome in ground pad was acheived.\n",
        "\n"
      ]
    },
    {
      "cell_type": "code",
      "metadata": {
        "id": "0675bf89-5269-44a9-b252-3d8ac46efa49",
        "colab": {
          "base_uri": "https://localhost:8080/"
        },
        "outputId": "400121dc-1b0d-4296-a91c-e62887f2a17c"
      },
      "outputs": [
        {
          "output_type": "stream",
          "name": "stdout",
          "text": [
            "  First Successful Landing\n",
            "0               2015-12-22\n"
          ]
        }
      ],
      "source": [
        "# List the date when the first succesful landing outcome in ground pad was acheived.\n",
        "\n",
        "query = 'SELECT MIN(Date) AS \"First Successful Landing\" FROM SPACEXTABLE WHERE \"Landing_Outcome\" = \"Success (ground pad)\";'\n",
        "firstsuccess = pd.read_sql_query(query, conn)\n",
        "print(firstsuccess)"
      ],
      "execution_count": 93
    },
    {
      "cell_type": "markdown",
      "metadata": {
        "id": "34be04be-b207-475f-81f1-d75ee88b2c32"
      },
      "source": [
        "### Task 6\n",
        "\n",
        "##### List the names of the boosters which have success in drone ship and have payload mass greater than 4000 but less than 6000\n"
      ]
    },
    {
      "cell_type": "code",
      "source": [
        "# List the names of the boosters which have success in drone ship and have payload mass greater than 4000 but less than 6000\n",
        "\n",
        "query = 'SELECT Booster_Version FROM SPACEXTABLE WHERE \"Landing_Outcome\" = \"Success (drone ship)\" AND PAYLOAD_MASS__KG_ > 4000 AND PAYLOAD_MASS__KG_ < 6000;'\n",
        "booster = pd.read_sql_query(query, conn)\n",
        "print(booster)"
      ],
      "metadata": {
        "id": "bJ30of14VTPF",
        "colab": {
          "base_uri": "https://localhost:8080/"
        },
        "outputId": "f339297e-c578-41aa-88cc-e397dc42cc3a"
      },
      "execution_count": 94,
      "outputs": [
        {
          "output_type": "stream",
          "name": "stdout",
          "text": [
            "  Booster_Version\n",
            "0     F9 FT B1022\n",
            "1     F9 FT B1026\n",
            "2  F9 FT  B1021.2\n",
            "3  F9 FT  B1031.2\n"
          ]
        }
      ]
    },
    {
      "cell_type": "markdown",
      "metadata": {
        "id": "2d69ae1c-d4cd-45fc-aa05-ed8f475e068f"
      },
      "source": [
        "### Task 7\n",
        "\n",
        "\n",
        "\n",
        "\n",
        "##### List the total number of successful and failure mission outcomes\n"
      ]
    },
    {
      "cell_type": "code",
      "metadata": {
        "id": "5811b71c-578a-4b7b-92d4-a0611164ee04",
        "colab": {
          "base_uri": "https://localhost:8080/"
        },
        "outputId": "837d74a3-22cb-4575-a79b-f776cb11d2db"
      },
      "outputs": [
        {
          "output_type": "stream",
          "name": "stdout",
          "text": [
            "                    Mission_Outcome  COUNT(*)\n",
            "0               Failure (in flight)         1\n",
            "1                           Success        98\n",
            "2                          Success          1\n",
            "3  Success (payload status unclear)         1\n"
          ]
        }
      ],
      "source": [
        "# List the total number of successful and failure mission outcomes\n",
        "\n",
        "query = 'SELECT Mission_Outcome, COUNT(*) FROM SPACEXTABLE GROUP BY Mission_Outcome;'\n",
        "mission = pd.read_sql_query(query, conn)\n",
        "print(mission)"
      ],
      "execution_count": 100
    },
    {
      "cell_type": "markdown",
      "metadata": {
        "id": "243df392-b791-4967-a8af-a2895dc8942b"
      },
      "source": [
        "### Task 8\n",
        "\n",
        "\n",
        "\n",
        "##### List the   names of the booster_versions which have carried the maximum payload mass. Use a subquery\n"
      ]
    },
    {
      "cell_type": "code",
      "metadata": {
        "id": "562ac9e1-6409-44d2-84c1-30380abe699c",
        "colab": {
          "base_uri": "https://localhost:8080/"
        },
        "outputId": "03c7e61d-7b29-40c4-8288-de9ba91b175b"
      },
      "outputs": [
        {
          "output_type": "stream",
          "name": "stdout",
          "text": [
            "   Booster_Version\n",
            "0    F9 B5 B1048.4\n",
            "1    F9 B5 B1049.4\n",
            "2    F9 B5 B1051.3\n",
            "3    F9 B5 B1056.4\n",
            "4    F9 B5 B1048.5\n",
            "5    F9 B5 B1051.4\n",
            "6    F9 B5 B1049.5\n",
            "7   F9 B5 B1060.2 \n",
            "8   F9 B5 B1058.3 \n",
            "9    F9 B5 B1051.6\n",
            "10   F9 B5 B1060.3\n",
            "11  F9 B5 B1049.7 \n"
          ]
        }
      ],
      "source": [
        "# List the names of the booster_versions which have carried the maximum payload mass. Use a subquery\n",
        "\n",
        "query = 'SELECT Booster_Version FROM SPACEXTABLE WHERE PAYLOAD_MASS__KG_ = (SELECT MAX(PAYLOAD_MASS__KG_) FROM SPACEXTABLE);'\n",
        "boosterv = pd.read_sql_query(query, conn)\n",
        "print(boosterv)"
      ],
      "execution_count": 101
    },
    {
      "cell_type": "markdown",
      "metadata": {
        "id": "cbb7b4f9-48d8-4094-bc8a-525cba71ffde"
      },
      "source": [
        "### Task 9\n",
        "\n",
        "\n",
        "##### List the records which will display the month names, failure landing_outcomes in drone ship ,booster versions, launch_site for the months in year 2015.\n",
        "\n",
        "**Note: SQLLite does not support monthnames. So you need to use  substr(Date, 6,2) as month to get the months and substr(Date,0,5)='2015' for year.**\n"
      ]
    },
    {
      "cell_type": "code",
      "source": [
        "# List the records which will display the month names, failure landing_outcomes in drone ship ,booster versions, launch_site for the months in year 2015.\n",
        "\n",
        "query = 'SELECT STRFTIME(\"%m\", Date) AS Month, Landing_Outcome, Booster_Version, Launch_Site \\\n",
        "         FROM SPACEXTABLE WHERE STRFTIME(\"%Y\", Date) = \"2015\" AND Landing_Outcome = \\'Failure (drone ship)\\';'\n",
        "records = pd.read_sql_query(query, conn)\n",
        "print(records)"
      ],
      "metadata": {
        "id": "mfQsQq1FVsnU",
        "colab": {
          "base_uri": "https://localhost:8080/"
        },
        "outputId": "2458e8fd-bb72-4854-8c3e-62e81bed74e1"
      },
      "execution_count": 104,
      "outputs": [
        {
          "output_type": "stream",
          "name": "stdout",
          "text": [
            "  Month       Landing_Outcome Booster_Version  Launch_Site\n",
            "0    01  Failure (drone ship)   F9 v1.1 B1012  CCAFS LC-40\n",
            "1    04  Failure (drone ship)   F9 v1.1 B1015  CCAFS LC-40\n"
          ]
        }
      ]
    },
    {
      "cell_type": "markdown",
      "metadata": {
        "id": "96c39afb-d88e-49eb-a86d-0459fb06ad6a"
      },
      "source": [
        "### Task 10\n",
        "\n",
        "\n",
        "\n",
        "\n",
        "##### Rank the count of landing outcomes (such as Failure (drone ship) or Success (ground pad)) between the date 2010-06-04 and 2017-03-20, in descending order.\n"
      ]
    },
    {
      "cell_type": "code",
      "source": [
        "# Rank the count of landing outcomes (such as Failure (drone ship) or Success (ground pad)) between the date 2010-06-04 and 2017-03-20, in descending order.\n",
        "\n",
        "query = 'SELECT Landing_Outcome, COUNT(*) AS OutcomeCount FROM SPACEXTABLE WHERE Date BETWEEN \"2010-06-04\" AND \"2017-03-20\" GROUP BY Landing_Outcome ORDER BY OutcomeCount DESC;'\n",
        "rank = pd.read_sql_query(query, conn)\n",
        "print(rank)"
      ],
      "metadata": {
        "id": "F_MkacRqVxfe",
        "colab": {
          "base_uri": "https://localhost:8080/"
        },
        "outputId": "4b85885c-7655-45e0-d9b0-1a8be21610c9"
      },
      "execution_count": 105,
      "outputs": [
        {
          "output_type": "stream",
          "name": "stdout",
          "text": [
            "          Landing_Outcome  OutcomeCount\n",
            "0              No attempt            10\n",
            "1    Success (drone ship)             5\n",
            "2    Failure (drone ship)             5\n",
            "3    Success (ground pad)             3\n",
            "4      Controlled (ocean)             3\n",
            "5    Uncontrolled (ocean)             2\n",
            "6     Failure (parachute)             2\n",
            "7  Precluded (drone ship)             1\n"
          ]
        }
      ]
    },
    {
      "cell_type": "markdown",
      "metadata": {
        "id": "acf85b18-21f0-4ff7-a9c9-808370dd874a"
      },
      "source": [
        "### Reference Links\n",
        "\n",
        "* <a href =\"https://cf-courses-data.s3.us.cloud-object-storage.appdomain.cloud/IBMDeveloperSkillsNetwork-DB0201EN-SkillsNetwork/labs/Labs_Coursera_V5/labs/Lab%20-%20String%20Patterns%20-%20Sorting%20-%20Grouping/instructional-labs.md.html?origin=www.coursera.org\">Hands-on Lab : String Patterns, Sorting and Grouping</a>  \n",
        "\n",
        "*  <a  href=\"https://cf-courses-data.s3.us.cloud-object-storage.appdomain.cloud/IBMDeveloperSkillsNetwork-DB0201EN-SkillsNetwork/labs/Labs_Coursera_V5/labs/Lab%20-%20Built-in%20functions%20/Hands-on_Lab__Built-in_Functions.md.html?origin=www.coursera.org\">Hands-on Lab: Built-in functions</a>\n",
        "\n",
        "*  <a  href=\"https://cf-courses-data.s3.us.cloud-object-storage.appdomain.cloud/IBMDeveloperSkillsNetwork-DB0201EN-SkillsNetwork/labs/Labs_Coursera_V5/labs/Lab%20-%20Sub-queries%20and%20Nested%20SELECTs%20/instructional-labs.md.html?origin=www.coursera.org\">Hands-on Lab : Sub-queries and Nested SELECT Statements</a>\n",
        "\n",
        "*   <a href=\"https://cf-courses-data.s3.us.cloud-object-storage.appdomain.cloud/IBMDeveloperSkillsNetwork-DB0201EN-SkillsNetwork/labs/Module%205/DB0201EN-Week3-1-3-SQLmagic.ipynb\">Hands-on Tutorial: Accessing Databases with SQL magic</a>\n",
        "\n",
        "*  <a href= \"https://cf-courses-data.s3.us.cloud-object-storage.appdomain.cloud/IBMDeveloperSkillsNetwork-DB0201EN-SkillsNetwork/labs/Module%205/DB0201EN-Week3-1-4-Analyzing.ipynb\">Hands-on Lab: Analyzing a real World Data Set</a>\n",
        "\n",
        "\n"
      ]
    },
    {
      "cell_type": "markdown",
      "metadata": {
        "id": "75e66544-48cc-4d7b-a563-2e8a4e9714b7"
      },
      "source": [
        "## Author(s)\n",
        "\n",
        "<h4> Lakshmi Holla </h4>\n"
      ]
    },
    {
      "cell_type": "markdown",
      "metadata": {
        "id": "9798984a-19bf-40c3-9cd6-0db0878ff72e"
      },
      "source": [
        "## Other Contributors\n",
        "\n",
        "<h4> Rav Ahuja </h4>\n"
      ]
    },
    {
      "cell_type": "markdown",
      "metadata": {
        "id": "3faefaa5-2332-4df9-84a3-af7aa6db58f1"
      },
      "source": [
        "<!--\n",
        "## Change log\n",
        "| Date | Version | Changed by | Change Description |\n",
        "|------|--------|--------|---------|\n",
        "| 2024-07-10 | 1.1 |Anita Verma | Changed Version|\n",
        "| 2021-07-09 | 0.2 |Lakshmi Holla | Changes made in magic sql|\n",
        "| 2021-05-20 | 0.1 |Lakshmi Holla | Created Initial Version |\n",
        "-->\n"
      ]
    },
    {
      "cell_type": "markdown",
      "metadata": {
        "id": "a4a9f46a-b4ab-4400-9e5a-d4f94ef77ce1"
      },
      "source": [
        "## <h3 align=\"center\"> © IBM Corporation 2021. All rights reserved. <h3/>\n"
      ]
    }
  ],
  "metadata": {
    "kernelspec": {
      "name": "python3",
      "display_name": "Python 3 (ipykernel)",
      "language": "python"
    },
    "language_info": {
      "name": "python",
      "version": "3.11.9",
      "mimetype": "text/x-python",
      "codemirror_mode": {
        "name": "ipython",
        "version": 3
      },
      "pygments_lexer": "ipython3",
      "nbconvert_exporter": "python",
      "file_extension": ".py"
    },
    "prev_pub_hash": "a5fa84525a820d08c9ec9c9cccf7d39455745aa2be6c2efdd18931346283d2d9",
    "colab": {
      "provenance": []
    }
  },
  "nbformat": 4,
  "nbformat_minor": 0
}